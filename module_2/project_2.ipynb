{
 "cells": [
  {
   "cell_type": "markdown",
   "id": "a2a8eab7",
   "metadata": {},
   "source": [
    "## Информация о входных данных\n",
    "\n",
    "1. school — аббревиатура школы, в которой учится ученик\n",
    "\n",
    "2. sex — пол ученика ('F' - женский, 'M' - мужской)\n",
    "\n",
    "3. age — возраст ученика (от 15 до 22)\n",
    "\n",
    "4. address — тип адреса ученика ('U' - городской, 'R' - за городом)\n",
    "\n",
    "5. famsize — размер семьи('LE3' <= 3, 'GT3' >3)\n",
    "\n",
    "6. pstatus — статус совместного жилья родителей ('T' - живут вместе 'A' - раздельно)\n",
    "\n",
    "7. medu — образование матери (0 - нет, 1 - 4 класса, 2 - 5-9 классы, 3 - среднее специальное или 11 классов, 4 - высшее)\n",
    "\n",
    "8. fedu — образование отца (0 - нет, 1 - 4 класса, 2 - 5-9 классы, 3 - среднее специальное или 11 классов, 4 - высшее)\n",
    "\n",
    "9. mjob — работа матери ('teacher' - учитель, 'health' - сфера здравоохранения, 'services' - гос служба, 'at_home' - не работает, 'other' - другое)\n",
    "\n",
    "10. fjob — работа отца ('teacher' - учитель, 'health' - сфера здравоохранения, 'services' - гос служба, 'at_home' - не работает, 'other' - другое)\n",
    "\n",
    "11. reason — причина выбора школы ('home' - близость к дому, 'reputation' - репутация школы, 'course' - образовательная программа, 'other' - другое)\n",
    "\n",
    "12. guardian — опекун ('mother' - мать, 'father' - отец, 'other' - другое)\n",
    "\n",
    "13. traveltime — время в пути до школы (1 - <15 мин., 2 - 15-30 мин., 3 - 30-60 мин., 4 - >60 мин.)\n",
    "\n",
    "14. studytime — время на учёбу помимо школы в неделю (1 - <2 часов, 2 - 2-5 часов, 3 - 5-10 часов, 4 - >10 часов)\n",
    "\n",
    "15. failures — количество внеучебных неудач (n, если 1<=n<=3, иначе 0)\n",
    "\n",
    "16. schoolsup — дополнительная образовательная поддержка (yes или no)\n",
    "\n",
    "17. famsup — семейная образовательная поддержка (yes или no)\n",
    "\n",
    "18. paid — дополнительные платные занятия по математике (yes или no)\n",
    "\n",
    "19. activities — дополнительные внеучебные занятия (yes или no)\n",
    "\n",
    "20. nursery — посещал детский сад (yes или no)\n",
    "\n",
    "21. higher — хочет получить высшее образование (yes или no)\n",
    "\n",
    "22. internet — наличие интернета дома (yes или no)\n",
    "\n",
    "23. romantic — в романтических отношениях (yes или no)\n",
    "\n",
    "24. famrel — семейные отношения (от 1 - очень плохо до 5 - очень хорошо)\n",
    "\n",
    "25. freetime — свободное время после школы (от 1 - очень мало до 5 - очень мого)\n",
    "\n",
    "26. goout — проведение времени с друзьями (от 1 - очень мало до 5 - очень много)\n",
    "\n",
    "27. health — текущее состояние здоровья (от 1 - очень плохо до 5 - очень хорошо)\n",
    "\n",
    "28. absences — количество пропущенных занятий\n",
    "\n",
    "29. score — баллы по госэкзамену по математике"
   ]
  },
  {
   "cell_type": "code",
   "execution_count": 1,
   "id": "ef97bccb",
   "metadata": {},
   "outputs": [],
   "source": [
    "# Imports, downloads, and settings\n",
    "\n",
    "import pandas as pd\n",
    "import matplotlib.pyplot as plt\n",
    "import seaborn as sns\n",
    "from itertools import combinations\n",
    "from scipy.stats import ttest_ind\n",
    "\n",
    "pd.set_option('display.max_rows', 50)  # Show more rows\n",
    "pd.set_option('display.max_columns', 50)  # Show more columns\n",
    "\n",
    "stud = pd.read_csv('stud_math.csv')"
   ]
  },
  {
   "cell_type": "code",
   "execution_count": 2,
   "id": "804cde92",
   "metadata": {},
   "outputs": [
    {
     "data": {
      "text/html": [
       "<div>\n",
       "<style scoped>\n",
       "    .dataframe tbody tr th:only-of-type {\n",
       "        vertical-align: middle;\n",
       "    }\n",
       "\n",
       "    .dataframe tbody tr th {\n",
       "        vertical-align: top;\n",
       "    }\n",
       "\n",
       "    .dataframe thead th {\n",
       "        text-align: right;\n",
       "    }\n",
       "</style>\n",
       "<table border=\"1\" class=\"dataframe\">\n",
       "  <thead>\n",
       "    <tr style=\"text-align: right;\">\n",
       "      <th></th>\n",
       "      <th>school</th>\n",
       "      <th>sex</th>\n",
       "      <th>age</th>\n",
       "      <th>address</th>\n",
       "      <th>famsize</th>\n",
       "      <th>Pstatus</th>\n",
       "      <th>Medu</th>\n",
       "      <th>Fedu</th>\n",
       "      <th>Mjob</th>\n",
       "      <th>Fjob</th>\n",
       "      <th>reason</th>\n",
       "      <th>guardian</th>\n",
       "      <th>traveltime</th>\n",
       "      <th>studytime</th>\n",
       "      <th>failures</th>\n",
       "      <th>schoolsup</th>\n",
       "      <th>famsup</th>\n",
       "      <th>paid</th>\n",
       "      <th>activities</th>\n",
       "      <th>nursery</th>\n",
       "      <th>studytime, granular</th>\n",
       "      <th>higher</th>\n",
       "      <th>internet</th>\n",
       "      <th>romantic</th>\n",
       "      <th>famrel</th>\n",
       "      <th>freetime</th>\n",
       "      <th>goout</th>\n",
       "      <th>health</th>\n",
       "      <th>absences</th>\n",
       "      <th>score</th>\n",
       "    </tr>\n",
       "  </thead>\n",
       "  <tbody>\n",
       "    <tr>\n",
       "      <th>0</th>\n",
       "      <td>GP</td>\n",
       "      <td>F</td>\n",
       "      <td>18</td>\n",
       "      <td>U</td>\n",
       "      <td>NaN</td>\n",
       "      <td>A</td>\n",
       "      <td>4.0</td>\n",
       "      <td>4.0</td>\n",
       "      <td>at_home</td>\n",
       "      <td>teacher</td>\n",
       "      <td>course</td>\n",
       "      <td>mother</td>\n",
       "      <td>2.0</td>\n",
       "      <td>2.0</td>\n",
       "      <td>0.0</td>\n",
       "      <td>yes</td>\n",
       "      <td>no</td>\n",
       "      <td>no</td>\n",
       "      <td>no</td>\n",
       "      <td>yes</td>\n",
       "      <td>-6.0</td>\n",
       "      <td>yes</td>\n",
       "      <td>NaN</td>\n",
       "      <td>no</td>\n",
       "      <td>4.0</td>\n",
       "      <td>3.0</td>\n",
       "      <td>4.0</td>\n",
       "      <td>3.0</td>\n",
       "      <td>6.0</td>\n",
       "      <td>30.0</td>\n",
       "    </tr>\n",
       "    <tr>\n",
       "      <th>1</th>\n",
       "      <td>GP</td>\n",
       "      <td>F</td>\n",
       "      <td>17</td>\n",
       "      <td>U</td>\n",
       "      <td>GT3</td>\n",
       "      <td>NaN</td>\n",
       "      <td>1.0</td>\n",
       "      <td>1.0</td>\n",
       "      <td>at_home</td>\n",
       "      <td>other</td>\n",
       "      <td>course</td>\n",
       "      <td>father</td>\n",
       "      <td>1.0</td>\n",
       "      <td>2.0</td>\n",
       "      <td>0.0</td>\n",
       "      <td>no</td>\n",
       "      <td>yes</td>\n",
       "      <td>no</td>\n",
       "      <td>no</td>\n",
       "      <td>no</td>\n",
       "      <td>-6.0</td>\n",
       "      <td>yes</td>\n",
       "      <td>yes</td>\n",
       "      <td>no</td>\n",
       "      <td>5.0</td>\n",
       "      <td>3.0</td>\n",
       "      <td>3.0</td>\n",
       "      <td>3.0</td>\n",
       "      <td>4.0</td>\n",
       "      <td>30.0</td>\n",
       "    </tr>\n",
       "    <tr>\n",
       "      <th>2</th>\n",
       "      <td>GP</td>\n",
       "      <td>F</td>\n",
       "      <td>15</td>\n",
       "      <td>U</td>\n",
       "      <td>LE3</td>\n",
       "      <td>T</td>\n",
       "      <td>1.0</td>\n",
       "      <td>1.0</td>\n",
       "      <td>at_home</td>\n",
       "      <td>other</td>\n",
       "      <td>other</td>\n",
       "      <td>mother</td>\n",
       "      <td>1.0</td>\n",
       "      <td>2.0</td>\n",
       "      <td>3.0</td>\n",
       "      <td>yes</td>\n",
       "      <td>no</td>\n",
       "      <td>NaN</td>\n",
       "      <td>no</td>\n",
       "      <td>yes</td>\n",
       "      <td>-6.0</td>\n",
       "      <td>yes</td>\n",
       "      <td>yes</td>\n",
       "      <td>NaN</td>\n",
       "      <td>4.0</td>\n",
       "      <td>3.0</td>\n",
       "      <td>2.0</td>\n",
       "      <td>3.0</td>\n",
       "      <td>10.0</td>\n",
       "      <td>50.0</td>\n",
       "    </tr>\n",
       "  </tbody>\n",
       "</table>\n",
       "</div>"
      ],
      "text/plain": [
       "  school sex  age address famsize Pstatus  Medu  Fedu     Mjob     Fjob  \\\n",
       "0     GP   F   18       U     NaN       A   4.0   4.0  at_home  teacher   \n",
       "1     GP   F   17       U     GT3     NaN   1.0   1.0  at_home    other   \n",
       "2     GP   F   15       U     LE3       T   1.0   1.0  at_home    other   \n",
       "\n",
       "   reason guardian  traveltime  studytime  failures schoolsup famsup paid  \\\n",
       "0  course   mother         2.0        2.0       0.0       yes     no   no   \n",
       "1  course   father         1.0        2.0       0.0        no    yes   no   \n",
       "2   other   mother         1.0        2.0       3.0       yes     no  NaN   \n",
       "\n",
       "  activities nursery  studytime, granular higher internet romantic  famrel  \\\n",
       "0         no     yes                 -6.0    yes      NaN       no     4.0   \n",
       "1         no      no                 -6.0    yes      yes       no     5.0   \n",
       "2         no     yes                 -6.0    yes      yes      NaN     4.0   \n",
       "\n",
       "   freetime  goout  health  absences  score  \n",
       "0       3.0    4.0     3.0       6.0   30.0  \n",
       "1       3.0    3.0     3.0       4.0   30.0  \n",
       "2       3.0    2.0     3.0      10.0   50.0  "
      ]
     },
     "metadata": {},
     "output_type": "display_data"
    },
    {
     "name": "stdout",
     "output_type": "stream",
     "text": [
      "<class 'pandas.core.frame.DataFrame'>\n",
      "RangeIndex: 395 entries, 0 to 394\n",
      "Data columns (total 30 columns):\n",
      " #   Column               Non-Null Count  Dtype  \n",
      "---  ------               --------------  -----  \n",
      " 0   school               395 non-null    object \n",
      " 1   sex                  395 non-null    object \n",
      " 2   age                  395 non-null    int64  \n",
      " 3   address              378 non-null    object \n",
      " 4   famsize              368 non-null    object \n",
      " 5   Pstatus              350 non-null    object \n",
      " 6   Medu                 392 non-null    float64\n",
      " 7   Fedu                 371 non-null    float64\n",
      " 8   Mjob                 376 non-null    object \n",
      " 9   Fjob                 359 non-null    object \n",
      " 10  reason               378 non-null    object \n",
      " 11  guardian             364 non-null    object \n",
      " 12  traveltime           367 non-null    float64\n",
      " 13  studytime            388 non-null    float64\n",
      " 14  failures             373 non-null    float64\n",
      " 15  schoolsup            386 non-null    object \n",
      " 16  famsup               356 non-null    object \n",
      " 17  paid                 355 non-null    object \n",
      " 18  activities           381 non-null    object \n",
      " 19  nursery              379 non-null    object \n",
      " 20  studytime, granular  388 non-null    float64\n",
      " 21  higher               375 non-null    object \n",
      " 22  internet             361 non-null    object \n",
      " 23  romantic             364 non-null    object \n",
      " 24  famrel               368 non-null    float64\n",
      " 25  freetime             384 non-null    float64\n",
      " 26  goout                387 non-null    float64\n",
      " 27  health               380 non-null    float64\n",
      " 28  absences             383 non-null    float64\n",
      " 29  score                389 non-null    float64\n",
      "dtypes: float64(12), int64(1), object(17)\n",
      "memory usage: 92.7+ KB\n"
     ]
    }
   ],
   "source": [
    "display(stud.head(3))\n",
    "stud.info()"
   ]
  },
  {
   "cell_type": "markdown",
   "id": "c8b08688",
   "metadata": {},
   "source": [
    " school, sex, age are columns without gaps"
   ]
  },
  {
   "cell_type": "markdown",
   "id": "31cb1cc4",
   "metadata": {},
   "source": [
    "# Functions"
   ]
  },
  {
   "cell_type": "code",
   "execution_count": 3,
   "id": "94eb98e4",
   "metadata": {},
   "outputs": [],
   "source": [
    "def show_info_object_col(column, df=stud):\n",
    "    \"\"\"Displays information about the object (non-numeric) column of the DataFrame\n",
    "\n",
    "    :param column: The name of the column about which to display information  \n",
    "    :type column: str\n",
    "    :param df: Working DataFrame, contains the column of interest (default=stud)\n",
    "    :type df: pandas.core.frame.DataFrame\n",
    "    :param return: Only displays information\n",
    "    :type return: None\n",
    "\n",
    "    \"\"\"\n",
    "    n = 10\n",
    "    display(pd.DataFrame(df[column].value_counts()))\n",
    "    print(f'Values that occur more than {n} times in the column:',\n",
    "          (df[column].value_counts() > n).sum())\n",
    "    df.loc[:, [column]].info()\n",
    "\n",
    "\n",
    "def get_boxplot(column, df=stud):\n",
    "    \"\"\"Builds boxplots for the column and 'score' (it's the main parameter)\n",
    "\n",
    "    :param column: The name of the column about which to build boxplots  \n",
    "    :type column: str\n",
    "    :param df: Working DataFrame, contains the column of interest (default=stud)\n",
    "    :type df: pandas.core.frame.DataFrame\n",
    "    :param return: Only shows a boxplot graph\n",
    "    :type return: None\n",
    "\n",
    "    \"\"\"\n",
    "    fig, ax = plt.subplots(figsize=(14, 4))\n",
    "\n",
    "    sns.boxplot(x=column, y='score',\n",
    "                data=df.loc[df.loc[:, column].isin(\n",
    "                    df.loc[:, column].value_counts().index[:10])],\n",
    "                ax=ax)\n",
    "\n",
    "    ax.set_title('Boxplot for ' + column)\n",
    "    plt.show()\n",
    "\n",
    "\n",
    "def get_stat_dif(column, df=stud, main_column='score'):\n",
    "    \"\"\"Searches for statistically significant differences between score and oject column\n",
    "\n",
    "    :param column: The name of the oject column for find   \n",
    "    :type column: str\n",
    "    :param df: Working DataFrame, contains the column of interest (default=stud)\n",
    "    :type df: pandas.core.frame.DataFrame\n",
    "    :param main_column: The name of the column about which the research is being conducted (default=score)\n",
    "    :type main_column: str\n",
    "    :param return: Displays the statistically most significant oject columns \n",
    "    :type return: None\n",
    "\n",
    "    \"\"\"\n",
    "    cols = df.loc[:, column].value_counts().index[:10]\n",
    "    combinations_all = list(combinations(cols, 2))\n",
    "    for comb in combinations_all:\n",
    "        if ttest_ind(df.loc[df.loc[:, column] == comb[0], main_column],\n",
    "                     df.loc[df.loc[:, column] == comb[1], main_column]).pvalue \\\n",
    "                <= 0.05/len(combinations_all):  # Учли поправку Бонферони\n",
    "            print(\n",
    "                f'Statistically significant differences were found for the {column} column')\n",
    "\n",
    "            break\n",
    "\n",
    "\n",
    "def hist_desc_col(column):\n",
    "    display(column.hist())\n",
    "    display(column.describe())\n",
    "\n",
    "\n",
    "def calculate_outliers(column):\n",
    "    \"\"\"Internal functions for calculating all statistics for calculating outliers\n",
    "\n",
    "    :param column: The numerical Series for calculatint statistical parameters  \n",
    "    :type column: pandas.core.frame.Series\n",
    "    :param return: Dictionary with all information for outliers\n",
    "    :type return: dict\n",
    "\n",
    "    \"\"\"\n",
    "    perc25 = column.quantile(0.25)\n",
    "    perc75 = column.quantile(0.75)\n",
    "    IQR = perc75 - perc25\n",
    "\n",
    "    min_real = column.min()\n",
    "    max_real = column.max()\n",
    "    min_theory = perc25 - 1.5*IQR\n",
    "    max_theory = perc75 + 1.5*IQR\n",
    "\n",
    "    outliers = {'name': column.name,\n",
    "                'perc25': perc25,\n",
    "                'perc75': perc75,\n",
    "                'IQR': IQR,\n",
    "                'min_real': min_real,\n",
    "                'max_real': max_real,\n",
    "                'min_theory': min_theory,\n",
    "                'max_theory': max_theory}\n",
    "\n",
    "    return outliers\n",
    "\n",
    "\n",
    "def filter_outliers(column):\n",
    "    \"\"\"Filter outliers in a Series\n",
    "\n",
    "    :param column: Series for filtering   \n",
    "    :type column: pandas.core.frame.Series\n",
    "    :param return: Filtred Series\n",
    "    :type return: pandas.core.frame.Series\n",
    "\n",
    "    \"\"\"\n",
    "    statictics = calculate_outliers(column)\n",
    "\n",
    "    return column[column.between(statictics['min_theory'], statictics['max_theory'])]\n",
    "\n",
    "\n",
    "def show_outliers(outliers):\n",
    "    \"\"\"Clearly shows information about the presence of emissions\n",
    "\n",
    "    :param outliers: Dictionary with all statistics for indicate of the outliers\n",
    "    :type outliers: dict\n",
    "    :param return: Print a massenge with a statistics and outliers \n",
    "    :type return: None\n",
    "\n",
    "    \"\"\"\n",
    "    print(f\"{outliers['name']} column\\n\"\n",
    "          f\"Q1: {outliers['perc25']}, Q3 {outliers['perc75']}, IQR: {outliers['IQR']},\\n\"\n",
    "          f\"Outliers limits: [{outliers['min_real']}, {outliers['max_real']}].\\n\"\n",
    "          f\"min = {outliers['min_theory']}, max = {outliers['max_theory']}\")\n",
    "    check_outliers(outliers['min_real'], outliers['max_real'],\n",
    "                   outliers['min_theory'], outliers['max_theory'])\n",
    "\n",
    "\n",
    "def check_outliers(min_real, max_real, min_theory, max_theory):\n",
    "    \"\"\"Checks whether the max and min values go beyond the boundaries of statistical values\n",
    "\n",
    "    :param min_real: Min value in the data\n",
    "    :type min_real: float\n",
    "    :param max_real: Max value in the data\n",
    "    :type max_real: float\n",
    "    :param min_theory: Limit for the min value of the data\n",
    "    :type min_theory: float\n",
    "    :param max_theory: Limit for the max value of the data\n",
    "    :type max_theory: float\n",
    "    :param return: Notification of the presence of outliers in data\n",
    "    :type return: None\n",
    "\n",
    "    \"\"\"\n",
    "    if min_real < min_theory or max_real > max_theory:\n",
    "        print('Outliers!\\n')\n",
    "    else:\n",
    "        print('All right!\\n')\n"
   ]
  },
  {
   "cell_type": "markdown",
   "id": "7cbd8768",
   "metadata": {},
   "source": [
    "# Preprocessing data"
   ]
  },
  {
   "cell_type": "code",
   "execution_count": 4,
   "id": "3acfe100",
   "metadata": {},
   "outputs": [],
   "source": [
    "# Renaming columns in the same style \n",
    "stud.columns = [name_clmns.lower().replace(', ', '_') for name_clmns in stud.columns]\n",
    "\n",
    "# Creating a list with the names of numeric columns of the stud DataFrame\n",
    "numeric_columns = ['age', 'medu', 'fedu', 'traveltime', 'studytime',\n",
    "                   'failures', 'famrel', 'freetime', 'goout', 'health', 'absences', 'score']"
   ]
  },
  {
   "cell_type": "code",
   "execution_count": 5,
   "id": "1f1a7340",
   "metadata": {},
   "outputs": [
    {
     "name": "stdout",
     "output_type": "stream",
     "text": [
      "<class 'pandas.core.frame.DataFrame'>\n",
      "RangeIndex: 395 entries, 0 to 394\n",
      "Data columns (total 30 columns):\n",
      " #   Column              Non-Null Count  Dtype  \n",
      "---  ------              --------------  -----  \n",
      " 0   school              395 non-null    object \n",
      " 1   sex                 395 non-null    object \n",
      " 2   age                 395 non-null    int64  \n",
      " 3   address             378 non-null    object \n",
      " 4   famsize             368 non-null    object \n",
      " 5   pstatus             350 non-null    object \n",
      " 6   medu                392 non-null    float64\n",
      " 7   fedu                371 non-null    float64\n",
      " 8   mjob                376 non-null    object \n",
      " 9   fjob                359 non-null    object \n",
      " 10  reason              378 non-null    object \n",
      " 11  guardian            364 non-null    object \n",
      " 12  traveltime          367 non-null    float64\n",
      " 13  studytime           388 non-null    float64\n",
      " 14  failures            373 non-null    float64\n",
      " 15  schoolsup           386 non-null    object \n",
      " 16  famsup              356 non-null    object \n",
      " 17  paid                355 non-null    object \n",
      " 18  activities          381 non-null    object \n",
      " 19  nursery             379 non-null    object \n",
      " 20  studytime_granular  388 non-null    float64\n",
      " 21  higher              375 non-null    object \n",
      " 22  internet            361 non-null    object \n",
      " 23  romantic            364 non-null    object \n",
      " 24  famrel              368 non-null    float64\n",
      " 25  freetime            384 non-null    float64\n",
      " 26  goout               387 non-null    float64\n",
      " 27  health              380 non-null    float64\n",
      " 28  absences            383 non-null    float64\n",
      " 29  score               389 non-null    float64\n",
      "dtypes: float64(12), int64(1), object(17)\n",
      "memory usage: 92.7+ KB\n"
     ]
    }
   ],
   "source": [
    "stud.info()"
   ]
  },
  {
   "cell_type": "code",
   "execution_count": 6,
   "id": "60c6c936",
   "metadata": {},
   "outputs": [
    {
     "data": {
      "text/plain": [
       "15     82\n",
       "16    104\n",
       "17     98\n",
       "18     82\n",
       "19     24\n",
       "20      3\n",
       "21      1\n",
       "Name: age, dtype: int64"
      ]
     },
     "metadata": {},
     "output_type": "display_data"
    },
    {
     "data": {
      "text/plain": [
       "15     82\n",
       "16    104\n",
       "17     98\n",
       "18     82\n",
       "19     24\n",
       "20      3\n",
       "21      1\n",
       "22      1\n",
       "Name: age, dtype: int64"
      ]
     },
     "metadata": {},
     "output_type": "display_data"
    },
    {
     "data": {
      "text/plain": [
       "0.0      3\n",
       "1.0     59\n",
       "2.0    102\n",
       "3.0     97\n",
       "4.0    131\n",
       "Name: medu, dtype: int64"
      ]
     },
     "metadata": {},
     "output_type": "display_data"
    },
    {
     "data": {
      "text/plain": [
       "0.0      3\n",
       "1.0     59\n",
       "2.0    102\n",
       "3.0     97\n",
       "4.0    131\n",
       "Name: medu, dtype: int64"
      ]
     },
     "metadata": {},
     "output_type": "display_data"
    },
    {
     "data": {
      "text/plain": [
       "1.0     78\n",
       "2.0    106\n",
       "3.0     96\n",
       "4.0     88\n",
       "Name: fedu, dtype: int64"
      ]
     },
     "metadata": {},
     "output_type": "display_data"
    },
    {
     "data": {
      "text/plain": [
       "0.0       2\n",
       "1.0      78\n",
       "2.0     106\n",
       "3.0      96\n",
       "4.0      88\n",
       "40.0      1\n",
       "Name: fedu, dtype: int64"
      ]
     },
     "metadata": {},
     "output_type": "display_data"
    },
    {
     "data": {
      "text/plain": [
       "1.0    242\n",
       "2.0     96\n",
       "3.0     22\n",
       "Name: traveltime, dtype: int64"
      ]
     },
     "metadata": {},
     "output_type": "display_data"
    },
    {
     "data": {
      "text/plain": [
       "1.0    242\n",
       "2.0     96\n",
       "3.0     22\n",
       "4.0      7\n",
       "Name: traveltime, dtype: int64"
      ]
     },
     "metadata": {},
     "output_type": "display_data"
    },
    {
     "data": {
      "text/plain": [
       "1.0    103\n",
       "2.0    194\n",
       "3.0     64\n",
       "Name: studytime, dtype: int64"
      ]
     },
     "metadata": {},
     "output_type": "display_data"
    },
    {
     "data": {
      "text/plain": [
       "1.0    103\n",
       "2.0    194\n",
       "3.0     64\n",
       "4.0     27\n",
       "Name: studytime, dtype: int64"
      ]
     },
     "metadata": {},
     "output_type": "display_data"
    },
    {
     "data": {
      "text/plain": [
       "0.0    293\n",
       "Name: failures, dtype: int64"
      ]
     },
     "metadata": {},
     "output_type": "display_data"
    },
    {
     "data": {
      "text/plain": [
       "0.0    293\n",
       "1.0     49\n",
       "2.0     16\n",
       "3.0     15\n",
       "Name: failures, dtype: int64"
      ]
     },
     "metadata": {},
     "output_type": "display_data"
    },
    {
     "data": {
      "text/plain": [
       "3.0     62\n",
       "4.0    182\n",
       "5.0     99\n",
       "Name: famrel, dtype: int64"
      ]
     },
     "metadata": {},
     "output_type": "display_data"
    },
    {
     "data": {
      "text/plain": [
       "-1.0      1\n",
       " 1.0      7\n",
       " 2.0     17\n",
       " 3.0     62\n",
       " 4.0    182\n",
       " 5.0     99\n",
       "Name: famrel, dtype: int64"
      ]
     },
     "metadata": {},
     "output_type": "display_data"
    },
    {
     "data": {
      "text/plain": [
       "2.0     63\n",
       "3.0    153\n",
       "4.0    112\n",
       "5.0     38\n",
       "Name: freetime, dtype: int64"
      ]
     },
     "metadata": {},
     "output_type": "display_data"
    },
    {
     "data": {
      "text/plain": [
       "1.0     18\n",
       "2.0     63\n",
       "3.0    153\n",
       "4.0    112\n",
       "5.0     38\n",
       "Name: freetime, dtype: int64"
      ]
     },
     "metadata": {},
     "output_type": "display_data"
    },
    {
     "data": {
      "text/plain": [
       "1.0     23\n",
       "2.0    101\n",
       "3.0    127\n",
       "4.0     84\n",
       "5.0     52\n",
       "Name: goout, dtype: int64"
      ]
     },
     "metadata": {},
     "output_type": "display_data"
    },
    {
     "data": {
      "text/plain": [
       "1.0     23\n",
       "2.0    101\n",
       "3.0    127\n",
       "4.0     84\n",
       "5.0     52\n",
       "Name: goout, dtype: int64"
      ]
     },
     "metadata": {},
     "output_type": "display_data"
    },
    {
     "data": {
      "text/plain": [
       "1.0     47\n",
       "2.0     43\n",
       "3.0     89\n",
       "4.0     63\n",
       "5.0    138\n",
       "Name: health, dtype: int64"
      ]
     },
     "metadata": {},
     "output_type": "display_data"
    },
    {
     "data": {
      "text/plain": [
       "1.0     47\n",
       "2.0     43\n",
       "3.0     89\n",
       "4.0     63\n",
       "5.0    138\n",
       "Name: health, dtype: int64"
      ]
     },
     "metadata": {},
     "output_type": "display_data"
    },
    {
     "data": {
      "text/plain": [
       "0.0     111\n",
       "1.0       3\n",
       "2.0      60\n",
       "3.0       8\n",
       "4.0      53\n",
       "5.0       5\n",
       "6.0      31\n",
       "7.0       6\n",
       "8.0      21\n",
       "9.0       3\n",
       "10.0     17\n",
       "11.0      2\n",
       "12.0     12\n",
       "13.0      2\n",
       "14.0     12\n",
       "15.0      2\n",
       "16.0      7\n",
       "17.0      1\n",
       "18.0      5\n",
       "19.0      1\n",
       "20.0      4\n",
       "Name: absences, dtype: int64"
      ]
     },
     "metadata": {},
     "output_type": "display_data"
    },
    {
     "data": {
      "text/plain": [
       "0.0      111\n",
       "1.0        3\n",
       "2.0       60\n",
       "3.0        8\n",
       "4.0       53\n",
       "5.0        5\n",
       "6.0       31\n",
       "7.0        6\n",
       "8.0       21\n",
       "9.0        3\n",
       "10.0      17\n",
       "11.0       2\n",
       "12.0      12\n",
       "13.0       2\n",
       "14.0      12\n",
       "15.0       2\n",
       "16.0       7\n",
       "17.0       1\n",
       "18.0       5\n",
       "19.0       1\n",
       "20.0       4\n",
       "21.0       1\n",
       "22.0       3\n",
       "23.0       1\n",
       "24.0       1\n",
       "25.0       1\n",
       "26.0       1\n",
       "28.0       1\n",
       "30.0       1\n",
       "38.0       1\n",
       "40.0       1\n",
       "54.0       1\n",
       "56.0       1\n",
       "75.0       1\n",
       "212.0      1\n",
       "385.0      1\n",
       "Name: absences, dtype: int64"
      ]
     },
     "metadata": {},
     "output_type": "display_data"
    },
    {
     "data": {
      "text/plain": [
       "0.0      37\n",
       "20.0      1\n",
       "25.0      7\n",
       "30.0     15\n",
       "35.0      9\n",
       "40.0     31\n",
       "45.0     27\n",
       "50.0     54\n",
       "55.0     46\n",
       "60.0     31\n",
       "65.0     31\n",
       "70.0     27\n",
       "75.0     33\n",
       "80.0     16\n",
       "85.0      6\n",
       "90.0     12\n",
       "95.0      5\n",
       "100.0     1\n",
       "Name: score, dtype: int64"
      ]
     },
     "metadata": {},
     "output_type": "display_data"
    },
    {
     "data": {
      "text/plain": [
       "0.0      37\n",
       "20.0      1\n",
       "25.0      7\n",
       "30.0     15\n",
       "35.0      9\n",
       "40.0     31\n",
       "45.0     27\n",
       "50.0     54\n",
       "55.0     46\n",
       "60.0     31\n",
       "65.0     31\n",
       "70.0     27\n",
       "75.0     33\n",
       "80.0     16\n",
       "85.0      6\n",
       "90.0     12\n",
       "95.0      5\n",
       "100.0     1\n",
       "Name: score, dtype: int64"
      ]
     },
     "metadata": {},
     "output_type": "display_data"
    }
   ],
   "source": [
    "# Checking the numeric columns for quality\n",
    "for col in numeric_columns:\n",
    "    display((stud[col]).value_counts().sort_index())\n",
    "    display(filter_outliers(stud[col]).value_counts().sort_index())"
   ]
  },
  {
   "cell_type": "markdown",
   "id": "42ffcc4f",
   "metadata": {},
   "source": [
    "## Первичный анализ всех столбцов с числовыми данными\n",
    "\n",
    "### age\n",
    "возраст ученика (от 15 до 22)\n",
    "\n",
    "*Ненулевых значений:* **395**\n",
    "\n",
    "*Пропуски:* **нет** 0%\n",
    "\n",
    "*Выбросы quantile*: 22      1\n",
    "\n",
    "*Выбросы логические:* студентов старше 19 лет суммарно 5 шт (3 -20, 1 -21, 1 -22) - их можно убрать из модели.\n",
    "\n",
    "*Выводы:* Столбец без пропусков, убрать из рассмотрения студентов старше 19 лет\n",
    "\n",
    "\n",
    "### medu\n",
    "образование матери (0 - нет, 1 - 4 класса, 2 - 5-9 классы, 3 - среднее специальное или 11 классов, 4 - высшее)\n",
    "\n",
    "*Ненулевых значений:* **392**\n",
    "\n",
    "*Пропуски:* **3** 0.8%\n",
    "\n",
    "*Выбросы quantile:* **нет**\n",
    "\n",
    "*Выбросы логические:* Всего 3 матери без образования => убираем из рассмотрения эти значения\n",
    "\n",
    "*Выводы:* Убрать из рассмотрения матерей без образования (medu = 0)\n",
    "\n",
    "\n",
    "### fedu\n",
    "образование отца (0 - нет, 1 - 4 класса, 2 - 5-9 классы, 3 - среднее специальное или 11 классов, 4 - высшее)\n",
    "\n",
    "*Ненулевых значений:* **371**\n",
    "\n",
    "*Пропуски:* **24** 6.1%\n",
    "\n",
    "*Выбросы quantile:* **0.0      2**\n",
    "\n",
    "*Выводы:* Пропусков не слишком много, заполнить данные самостоятельно не получится. Выбросы отфильтруются функцией filter_outliers => дополнительных действий не требуется. Была 1 опечатка, значени \"40\" и скорее всего имелось в виду значение \"4\". Сделал соответвующее исправление в данных. \n",
    "\n",
    "\n",
    "### traveltime\n",
    "время в пути до школы (1 - <15 мин., 2 - 15-30 мин., 3 - 30-60 мин., 4 - >60 мин.)\n",
    "\n",
    "*Ненулевых значений:* **367**\n",
    "\n",
    "*Пропуски:* **28** 7.1%\n",
    "\n",
    "*Выбросы quantile:* **4.0      7** \n",
    "\n",
    "*Выводы:* Выбросы отфильтруются функцией filter_outliers => дополнительных действий не требуется\n",
    "\n",
    "\n",
    "### studytime\n",
    "время на учёбу помимо школы в неделю (1 - <2 часов, 2 - 2-5 часов, 3 - 5-10 часов, 4 - >10 часов)\n",
    "\n",
    "*Ненулевых значений:* **388** 1.7%\n",
    "\n",
    "*Пропуски:* **7**\n",
    "\n",
    "*Выбросы quantile:* **4.0     27**\n",
    "\n",
    "*Выводы:* Стобец очень интересен, необходимо проверить взаимосвязь между этим параметром и баллами на экзамене.\n",
    "\n",
    "\n",
    "### failures\n",
    "количество внеучебных неудач (n, если 1<=n<=3, иначе 0)\n",
    "\n",
    "*Ненулевых значений:* **373**\n",
    "\n",
    "*Пропуски:* **22** 5.6%\n",
    "\n",
    "*Выбросы quantile:* **1.0     49; 2.0     16; 3.0     15**\n",
    "\n",
    "*Выводы:* Столбец является неинформативным, так как не выбросом считается только 1 значение, другие следовательно статистически незначимые. Возможно просто недостаточно большая выборка, чтобы увидеть влияние этого параметра. Столбец убрать из рассмотрения.\n",
    "\n",
    "\n",
    "### famrel\n",
    "семейные отношения (от 1 - очень плохо до 5 - очень хорошо)\n",
    "\n",
    "*Ненулевых значений:* **368**\n",
    "\n",
    "*Пропуски:* **27** 6.8%\n",
    "\n",
    "*Выбросы quantile:* **1.0      8; 2.0     17**\n",
    "\n",
    "*Выводы:* Пропуски самостоятелно не заполнить, ужасных семейных отношейний в выборке не имеется. Была 1 опечатка, значение \"-1\", и скорее всего имелось ввиду значение \"1\". Сделал соответвующую замену. \n",
    "\n",
    "\n",
    "### freetime\n",
    "свободное время после школы (от 1 - очень мало до 5 - очень мого)\n",
    "\n",
    "*Ненулевых значений:* **384**\n",
    "\n",
    "*Пропуски:* **11** 2.8%\n",
    "\n",
    "*Выбросы quantile:* **1.0     18**\n",
    "\n",
    "*Выводы:* Выбросов нет, пропуски самостоятельно не заполнить, оставить без изменений.\n",
    "\n",
    "\n",
    "### goout\n",
    "проведение времени с друзьями (от 1 - очень мало до 5 - очень много)\n",
    "\n",
    "*Ненулевых значений:* **387**\n",
    "\n",
    "*Пропуски:* **8** 2%\n",
    "\n",
    "*Выбросы quantile:* **нет**\n",
    "\n",
    "*Выводы:* Выбросов нет, пропуски самостоятельно не заполнить, оставить без изменений.\n",
    "\n",
    "\n",
    "### health\n",
    "текущее состояние здоровья (от 1 - очень плохо до 5 - очень хорошо)\n",
    "\n",
    "*Ненулевых значений:* **380**\n",
    "\n",
    "*Пропуски:* **15** 3.8%\n",
    "\n",
    "*Выбросы quantile:* **нет**\n",
    "\n",
    "*Выводы:* Выбросов нет, пропуски самостоятельно не заполнить, оставить без изменений.\n",
    "\n",
    "\n",
    "### absences\n",
    "количество пропущенных занятий\n",
    "\n",
    "*Ненулевых значений:* **383**\n",
    "\n",
    "*Пропуски:* **12** 3.0%\n",
    "\n",
    "*Выбросы quantile:* **21.0       1; 22.0       3; 23.0       1; 24.0       1; 25.0       1; 26.0       1; 28.0       1; 30.0       1; 38.0       1; 40.0       1; 54.0       1; 56.0       1; 75.0       1; 212.0      1; 385.0      1**\n",
    "\n",
    "*Выводы:* Много выбросов, данный столбец требует дополнительного индивидуального анализа. Пропущенные занятия могут иметь сильную обратную связь с кол-вом баллолв на экзамене - это гипотетически важный столбец. \n",
    "\n",
    "\n",
    "### score\n",
    "баллы по госэкзамену по математике\n",
    "\n",
    "*Ненулевых значений:* **389**\n",
    "\n",
    "*Пропуски:* **6** 1.5%\n",
    "\n",
    "*Выбросы quantile:* **нет**\n",
    "\n",
    "*Выводы:* Данный столбец является объектом исследования, он особенно важен. \n",
    "\n",
    "Мысли и идеи насчет одного стобальника: \n",
    "    \n",
    "    1. Статистика не показала наличие выбросов, значит данного студента стоит оставить в статистике.\n",
    "    \n",
    "    2. Этот случай особенно интересен, так как 100 баллов это гипотетическая цель студента.\n",
    "\n",
    "    3. Это может быть пример теории \"ошибки выжившего\" и нельзя опираться на данный случай при формулировании окончательных выводов. \n",
    "    \n",
    "    4. Скорее этот студент просто интересный случай, у которого такой же статистический вес как и у всех других студентов. \n",
    "\n",
    "\n",
    "### Общие выводы:\n",
    "1. Максимльно 7.1% пустных значений, что свидетельствует о хорошем качестве данных, а значит, их можно использовать для проверки первичных гипотез о факторах влияющих на количество балов экзамена по математике.\n",
    "\n",
    "\n",
    "2. Некоторые столбцы требуют дополнительной ручной доработки, остальные либо не нуждаются в этом, либо для них достаточно применения общих методов.  "
   ]
  },
  {
   "cell_type": "code",
   "execution_count": 7,
   "id": "702296f6",
   "metadata": {},
   "outputs": [],
   "source": [
    "# Fix typos\n",
    "\n",
    "# Typo: stud.fedu = 40, fix for 4 (from 0 to 4)\n",
    "stud.loc[stud.fedu == 40, 'fedu'] = 4\n",
    "\n",
    "\n",
    "# Typo: stud.famrel = -1, fix for 1 (from 1 to 5)\n",
    "stud.loc[stud.famrel == -1, 'famrel'] = 1"
   ]
  },
  {
   "cell_type": "code",
   "execution_count": 8,
   "id": "271fd9f3",
   "metadata": {},
   "outputs": [],
   "source": [
    "# Data preprocessing after analysis\n",
    "\n",
    "# age - deleted everyone over the age of 19 \n",
    "stud.loc[stud.age > 19, 'age'] = None\n",
    "\n",
    "# medu - remove all mothers without education\n",
    "stud.loc[stud.medu == 0, 'medu'] = None\n",
    "\n",
    "# failures - deleted an uninformative column from the stud DataFrame and the numeric_columns list\n",
    "stud.drop(['failures'], inplace = True, axis = 1)\n",
    "numeric_columns.remove('failures')\n",
    "\n",
    "# Delete outliers with help quartiles from another columns\n",
    "for_filtering = ['fedu', 'traveltime', 'studytime', 'famrel', 'freetime', 'absences']\n",
    "for col in for_filtering:\n",
    "    stud[col] = filter_outliers(stud[col])"
   ]
  },
  {
   "cell_type": "code",
   "execution_count": 9,
   "id": "b9086f6e",
   "metadata": {},
   "outputs": [
    {
     "data": {
      "text/html": [
       "<div>\n",
       "<style scoped>\n",
       "    .dataframe tbody tr th:only-of-type {\n",
       "        vertical-align: middle;\n",
       "    }\n",
       "\n",
       "    .dataframe tbody tr th {\n",
       "        vertical-align: top;\n",
       "    }\n",
       "\n",
       "    .dataframe thead th {\n",
       "        text-align: right;\n",
       "    }\n",
       "</style>\n",
       "<table border=\"1\" class=\"dataframe\">\n",
       "  <thead>\n",
       "    <tr style=\"text-align: right;\">\n",
       "      <th></th>\n",
       "      <th>age</th>\n",
       "      <th>medu</th>\n",
       "      <th>fedu</th>\n",
       "      <th>traveltime</th>\n",
       "      <th>studytime</th>\n",
       "      <th>studytime_granular</th>\n",
       "      <th>famrel</th>\n",
       "      <th>freetime</th>\n",
       "      <th>goout</th>\n",
       "      <th>health</th>\n",
       "      <th>absences</th>\n",
       "      <th>score</th>\n",
       "    </tr>\n",
       "  </thead>\n",
       "  <tbody>\n",
       "    <tr>\n",
       "      <th>age</th>\n",
       "      <td>1.000000</td>\n",
       "      <td>-0.160181</td>\n",
       "      <td>-0.150080</td>\n",
       "      <td>0.130375</td>\n",
       "      <td>0.084692</td>\n",
       "      <td>-0.010342</td>\n",
       "      <td>-0.002682</td>\n",
       "      <td>-0.022787</td>\n",
       "      <td>0.121945</td>\n",
       "      <td>-0.053389</td>\n",
       "      <td>0.145725</td>\n",
       "      <td>-0.171707</td>\n",
       "    </tr>\n",
       "    <tr>\n",
       "      <th>medu</th>\n",
       "      <td>-0.160181</td>\n",
       "      <td>1.000000</td>\n",
       "      <td>0.637606</td>\n",
       "      <td>-0.141591</td>\n",
       "      <td>0.097661</td>\n",
       "      <td>-0.079899</td>\n",
       "      <td>0.035897</td>\n",
       "      <td>0.013052</td>\n",
       "      <td>0.051839</td>\n",
       "      <td>-0.039491</td>\n",
       "      <td>0.050768</td>\n",
       "      <td>0.230728</td>\n",
       "    </tr>\n",
       "    <tr>\n",
       "      <th>fedu</th>\n",
       "      <td>-0.150080</td>\n",
       "      <td>0.637606</td>\n",
       "      <td>1.000000</td>\n",
       "      <td>-0.083051</td>\n",
       "      <td>0.095755</td>\n",
       "      <td>-0.028305</td>\n",
       "      <td>-0.004301</td>\n",
       "      <td>-0.046568</td>\n",
       "      <td>0.036266</td>\n",
       "      <td>0.009841</td>\n",
       "      <td>-0.020959</td>\n",
       "      <td>0.140526</td>\n",
       "    </tr>\n",
       "    <tr>\n",
       "      <th>traveltime</th>\n",
       "      <td>0.130375</td>\n",
       "      <td>-0.141591</td>\n",
       "      <td>-0.083051</td>\n",
       "      <td>1.000000</td>\n",
       "      <td>-0.128818</td>\n",
       "      <td>0.117282</td>\n",
       "      <td>-0.044674</td>\n",
       "      <td>-0.062865</td>\n",
       "      <td>-0.033557</td>\n",
       "      <td>-0.035184</td>\n",
       "      <td>-0.065529</td>\n",
       "      <td>-0.072792</td>\n",
       "    </tr>\n",
       "    <tr>\n",
       "      <th>studytime</th>\n",
       "      <td>0.084692</td>\n",
       "      <td>0.097661</td>\n",
       "      <td>0.095755</td>\n",
       "      <td>-0.128818</td>\n",
       "      <td>1.000000</td>\n",
       "      <td>-1.000000</td>\n",
       "      <td>0.079992</td>\n",
       "      <td>-0.089910</td>\n",
       "      <td>-0.047142</td>\n",
       "      <td>-0.042698</td>\n",
       "      <td>-0.083024</td>\n",
       "      <td>0.112830</td>\n",
       "    </tr>\n",
       "    <tr>\n",
       "      <th>studytime_granular</th>\n",
       "      <td>-0.010342</td>\n",
       "      <td>-0.079899</td>\n",
       "      <td>-0.028305</td>\n",
       "      <td>0.117282</td>\n",
       "      <td>-1.000000</td>\n",
       "      <td>1.000000</td>\n",
       "      <td>-0.054578</td>\n",
       "      <td>0.096959</td>\n",
       "      <td>0.051280</td>\n",
       "      <td>0.080016</td>\n",
       "      <td>0.078099</td>\n",
       "      <td>-0.115741</td>\n",
       "    </tr>\n",
       "    <tr>\n",
       "      <th>famrel</th>\n",
       "      <td>-0.002682</td>\n",
       "      <td>0.035897</td>\n",
       "      <td>-0.004301</td>\n",
       "      <td>-0.044674</td>\n",
       "      <td>0.079992</td>\n",
       "      <td>-0.054578</td>\n",
       "      <td>1.000000</td>\n",
       "      <td>0.107271</td>\n",
       "      <td>0.096541</td>\n",
       "      <td>0.028073</td>\n",
       "      <td>-0.020196</td>\n",
       "      <td>0.057692</td>\n",
       "    </tr>\n",
       "    <tr>\n",
       "      <th>freetime</th>\n",
       "      <td>-0.022787</td>\n",
       "      <td>0.013052</td>\n",
       "      <td>-0.046568</td>\n",
       "      <td>-0.062865</td>\n",
       "      <td>-0.089910</td>\n",
       "      <td>0.096959</td>\n",
       "      <td>0.107271</td>\n",
       "      <td>1.000000</td>\n",
       "      <td>0.258559</td>\n",
       "      <td>0.056916</td>\n",
       "      <td>0.092394</td>\n",
       "      <td>0.000582</td>\n",
       "    </tr>\n",
       "    <tr>\n",
       "      <th>goout</th>\n",
       "      <td>0.121945</td>\n",
       "      <td>0.051839</td>\n",
       "      <td>0.036266</td>\n",
       "      <td>-0.033557</td>\n",
       "      <td>-0.047142</td>\n",
       "      <td>0.051280</td>\n",
       "      <td>0.096541</td>\n",
       "      <td>0.258559</td>\n",
       "      <td>1.000000</td>\n",
       "      <td>-0.015608</td>\n",
       "      <td>0.111587</td>\n",
       "      <td>-0.129685</td>\n",
       "    </tr>\n",
       "    <tr>\n",
       "      <th>health</th>\n",
       "      <td>-0.053389</td>\n",
       "      <td>-0.039491</td>\n",
       "      <td>0.009841</td>\n",
       "      <td>-0.035184</td>\n",
       "      <td>-0.042698</td>\n",
       "      <td>0.080016</td>\n",
       "      <td>0.028073</td>\n",
       "      <td>0.056916</td>\n",
       "      <td>-0.015608</td>\n",
       "      <td>1.000000</td>\n",
       "      <td>-0.014358</td>\n",
       "      <td>-0.070460</td>\n",
       "    </tr>\n",
       "    <tr>\n",
       "      <th>absences</th>\n",
       "      <td>0.145725</td>\n",
       "      <td>0.050768</td>\n",
       "      <td>-0.020959</td>\n",
       "      <td>-0.065529</td>\n",
       "      <td>-0.083024</td>\n",
       "      <td>0.078099</td>\n",
       "      <td>-0.020196</td>\n",
       "      <td>0.092394</td>\n",
       "      <td>0.111587</td>\n",
       "      <td>-0.014358</td>\n",
       "      <td>1.000000</td>\n",
       "      <td>0.081274</td>\n",
       "    </tr>\n",
       "    <tr>\n",
       "      <th>score</th>\n",
       "      <td>-0.171707</td>\n",
       "      <td>0.230728</td>\n",
       "      <td>0.140526</td>\n",
       "      <td>-0.072792</td>\n",
       "      <td>0.112830</td>\n",
       "      <td>-0.115741</td>\n",
       "      <td>0.057692</td>\n",
       "      <td>0.000582</td>\n",
       "      <td>-0.129685</td>\n",
       "      <td>-0.070460</td>\n",
       "      <td>0.081274</td>\n",
       "      <td>1.000000</td>\n",
       "    </tr>\n",
       "  </tbody>\n",
       "</table>\n",
       "</div>"
      ],
      "text/plain": [
       "                         age      medu      fedu  traveltime  studytime  \\\n",
       "age                 1.000000 -0.160181 -0.150080    0.130375   0.084692   \n",
       "medu               -0.160181  1.000000  0.637606   -0.141591   0.097661   \n",
       "fedu               -0.150080  0.637606  1.000000   -0.083051   0.095755   \n",
       "traveltime          0.130375 -0.141591 -0.083051    1.000000  -0.128818   \n",
       "studytime           0.084692  0.097661  0.095755   -0.128818   1.000000   \n",
       "studytime_granular -0.010342 -0.079899 -0.028305    0.117282  -1.000000   \n",
       "famrel             -0.002682  0.035897 -0.004301   -0.044674   0.079992   \n",
       "freetime           -0.022787  0.013052 -0.046568   -0.062865  -0.089910   \n",
       "goout               0.121945  0.051839  0.036266   -0.033557  -0.047142   \n",
       "health             -0.053389 -0.039491  0.009841   -0.035184  -0.042698   \n",
       "absences            0.145725  0.050768 -0.020959   -0.065529  -0.083024   \n",
       "score              -0.171707  0.230728  0.140526   -0.072792   0.112830   \n",
       "\n",
       "                    studytime_granular    famrel  freetime     goout  \\\n",
       "age                          -0.010342 -0.002682 -0.022787  0.121945   \n",
       "medu                         -0.079899  0.035897  0.013052  0.051839   \n",
       "fedu                         -0.028305 -0.004301 -0.046568  0.036266   \n",
       "traveltime                    0.117282 -0.044674 -0.062865 -0.033557   \n",
       "studytime                    -1.000000  0.079992 -0.089910 -0.047142   \n",
       "studytime_granular            1.000000 -0.054578  0.096959  0.051280   \n",
       "famrel                       -0.054578  1.000000  0.107271  0.096541   \n",
       "freetime                      0.096959  0.107271  1.000000  0.258559   \n",
       "goout                         0.051280  0.096541  0.258559  1.000000   \n",
       "health                        0.080016  0.028073  0.056916 -0.015608   \n",
       "absences                      0.078099 -0.020196  0.092394  0.111587   \n",
       "score                        -0.115741  0.057692  0.000582 -0.129685   \n",
       "\n",
       "                      health  absences     score  \n",
       "age                -0.053389  0.145725 -0.171707  \n",
       "medu               -0.039491  0.050768  0.230728  \n",
       "fedu                0.009841 -0.020959  0.140526  \n",
       "traveltime         -0.035184 -0.065529 -0.072792  \n",
       "studytime          -0.042698 -0.083024  0.112830  \n",
       "studytime_granular  0.080016  0.078099 -0.115741  \n",
       "famrel              0.028073 -0.020196  0.057692  \n",
       "freetime            0.056916  0.092394  0.000582  \n",
       "goout              -0.015608  0.111587 -0.129685  \n",
       "health              1.000000 -0.014358 -0.070460  \n",
       "absences           -0.014358  1.000000  0.081274  \n",
       "score              -0.070460  0.081274  1.000000  "
      ]
     },
     "execution_count": 9,
     "metadata": {},
     "output_type": "execute_result"
    }
   ],
   "source": [
    "# Correlation analysis\n",
    "\n",
    "stud.corr()"
   ]
  },
  {
   "cell_type": "code",
   "execution_count": 10,
   "id": "13ea7426",
   "metadata": {},
   "outputs": [],
   "source": [
    "# 100% correlation ('studytime_granular','studytime') = > delete studytime_granular \n",
    "stud.drop(['studytime_granular'], inplace = True, axis = 1)"
   ]
  },
  {
   "cell_type": "code",
   "execution_count": null,
   "id": "3088a5ba",
   "metadata": {},
   "outputs": [],
   "source": []
  },
  {
   "cell_type": "code",
   "execution_count": 11,
   "id": "bf01ae57",
   "metadata": {},
   "outputs": [
    {
     "data": {
      "image/png": "[encoded data removed]",
      "text/plain": [
       "<Figure size 1008x288 with 1 Axes>"
      ]
     },
     "metadata": {
      "needs_background": "light"
     },
     "output_type": "display_data"
    },
    {
     "data": {
      "image/png": "[encoded data removed]",
      "text/plain": [
       "<Figure size 1008x288 with 1 Axes>"
      ]
     },
     "metadata": {
      "needs_background": "light"
     },
     "output_type": "display_data"
    },
    {
     "data": {
      "image/png": "[encoded data removed]",
      "text/plain": [
       "<Figure size 1008x288 with 1 Axes>"
      ]
     },
     "metadata": {
      "needs_background": "light"
     },
     "output_type": "display_data"
    },
    {
     "data": {
      "image/png": "[encoded data removed]",
      "text/plain": [
       "<Figure size 1008x288 with 1 Axes>"
      ]
     },
     "metadata": {
      "needs_background": "light"
     },
     "output_type": "display_data"
    },
    {
     "data": {
      "image/png": "[encoded data removed]",
      "text/plain": [
       "<Figure size 1008x288 with 1 Axes>"
      ]
     },
     "metadata": {
      "needs_background": "light"
     },
     "output_type": "display_data"
    },
    {
     "data": {
      "image/png": "[encoded data removed]",
      "text/plain": [
       "<Figure size 1008x288 with 1 Axes>"
      ]
     },
     "metadata": {
      "needs_background": "light"
     },
     "output_type": "display_data"
    },
    {
     "data": {
      "image/png": "[encoded data removed]",
      "text/plain": [
       "<Figure size 1008x288 with 1 Axes>"
      ]
     },
     "metadata": {
      "needs_background": "light"
     },
     "output_type": "display_data"
    },
    {
     "data": {
      "image/png": "[encoded data removed]",
      "text/plain": [
       "<Figure size 1008x288 with 1 Axes>"
      ]
     },
     "metadata": {
      "needs_background": "light"
     },
     "output_type": "display_data"
    },
    {
     "data": {
      "image/png": "[encoded data removed]",
      "text/plain": [
       "<Figure size 1008x288 with 1 Axes>"
      ]
     },
     "metadata": {
      "needs_background": "light"
     },
     "output_type": "display_data"
    },
    {
     "data": {
      "image/png": "[encoded data removed]",
      "text/plain": [
       "<Figure size 1008x288 with 1 Axes>"
      ]
     },
     "metadata": {
      "needs_background": "light"
     },
     "output_type": "display_data"
    },
    {
     "data": {
      "image/png": "[encoded data removed]",
      "text/plain": [
       "<Figure size 1008x288 with 1 Axes>"
      ]
     },
     "metadata": {
      "needs_background": "light"
     },
     "output_type": "display_data"
    },
    {
     "data": {
      "image/png": "[encoded data removed]",
      "text/plain": [
       "<Figure size 1008x288 with 1 Axes>"
      ]
     },
     "metadata": {
      "needs_background": "light"
     },
     "output_type": "display_data"
    },
    {
     "data": {
      "image/png": "[encoded data removed]",
      "text/plain": [
       "<Figure size 1008x288 with 1 Axes>"
      ]
     },
     "metadata": {
      "needs_background": "light"
     },
     "output_type": "display_data"
    },
    {
     "data": {
      "image/png": "[encoded data removed]",
      "text/plain": [
       "<Figure size 1008x288 with 1 Axes>"
      ]
     },
     "metadata": {
      "needs_background": "light"
     },
     "output_type": "display_data"
    },
    {
     "data": {
      "image/png": "[encoded data removed]",
      "text/plain": [
       "<Figure size 1008x288 with 1 Axes>"
      ]
     },
     "metadata": {
      "needs_background": "light"
     },
     "output_type": "display_data"
    },
    {
     "data": {
      "image/png": "[encoded data removed]",
      "text/plain": [
       "<Figure size 1008x288 with 1 Axes>"
      ]
     },
     "metadata": {
      "needs_background": "light"
     },
     "output_type": "display_data"
    },
    {
     "data": {
      "image/png": "[encoded data removed]",
      "text/plain": [
       "<Figure size 1008x288 with 1 Axes>"
      ]
     },
     "metadata": {
      "needs_background": "light"
     },
     "output_type": "display_data"
    }
   ],
   "source": [
    "# Look at the object columns\n",
    "for col in set(stud.columns) - set(numeric_columns):\n",
    "    get_boxplot(col)"
   ]
  },
  {
   "cell_type": "code",
   "execution_count": 12,
   "id": "69f49460",
   "metadata": {},
   "outputs": [
    {
     "name": "stdout",
     "output_type": "stream",
     "text": [
      "Statistically significant differences were found for the mjob column\n"
     ]
    }
   ],
   "source": [
    "# Find statistically significant differences for the columns\n",
    "for col in set(stud.columns) - set(numeric_columns):\n",
    "    get_stat_dif(col)"
   ]
  },
  {
   "cell_type": "code",
   "execution_count": null,
   "id": "44cbb7b6",
   "metadata": {},
   "outputs": [],
   "source": []
  },
  {
   "cell_type": "markdown",
   "id": "cbc23853",
   "metadata": {},
   "source": [
    "Выбросов в данных достаточно много, также имеются пропуски не более 8% в столбце, данные не очень чистые, доверие к полученным выводам будет меньше, чем у выводов в тренировочном блоке. \n",
    "\n",
    "Для дальнейшего рассмотрения в модели из номинативных колонок подходит только \"mjob\". Это значительно уменьшает количество рассматриваемых параметров, следовательно: \n",
    "\n",
    "1. Обучение модели быдет сделать легче, меньше параметров за которыми необходимо следить.\n",
    "\n",
    "2. В дальнейшем проще собирать новые данные по ученикам, так как необходимо меньше информации. \n",
    "\n",
    "\n",
    "Стопроцентная корееляция между столбцами 'studytime_granular' и 'studytime' (обратная зависимость) говорит о том, что эти столбцы обозначают одно и тоже, из-за чего нет смысла оставлять оба столбца для дальнейшего рассмотрения. \n",
    "\n",
    "\n",
    "Самые важные параметры, которые предлагается использовать в дальнейшем для построения модели это:\n",
    "    \n",
    "   * mjob\n",
    "   * age\n",
    "   * medu\n",
    "   * fedu\n",
    "   * traveltime\n",
    "   * studytime\n",
    "   * famrel\n",
    "   * freetime\n",
    "   * goout\n",
    "   * health\n",
    "   * absences\n",
    "   * score   "
   ]
  },
  {
   "cell_type": "code",
   "execution_count": 13,
   "id": "a04510ad",
   "metadata": {},
   "outputs": [
    {
     "data": {
      "text/plain": [
       "age          -0.171707\n",
       "medu          0.230728\n",
       "fedu          0.140526\n",
       "traveltime   -0.072792\n",
       "studytime     0.112830\n",
       "famrel        0.057692\n",
       "freetime      0.000582\n",
       "goout        -0.129685\n",
       "health       -0.070460\n",
       "absences      0.081274\n",
       "score         1.000000\n",
       "Name: score, dtype: float64"
      ]
     },
     "execution_count": 13,
     "metadata": {},
     "output_type": "execute_result"
    }
   ],
   "source": [
    "stud.corr()['score']"
   ]
  },
  {
   "cell_type": "markdown",
   "id": "881356e7",
   "metadata": {},
   "source": [
    "1. Самая большая корреляция наблюдается между образованием матери. Видимо это связанно с тем, что матери больше времени находятся с детьи и больше занимаются их воспитанием и образованием. \n",
    "\n",
    "2. Чем старше студент - тем хуже баллы на экзамене, возможно, это связанно с тем, что с взрослением меняются приоритеты, появляются другие интересы, а также нельзя забывать, что и математика усложняется и пробелы накапливаются как снежный ком. \n",
    "\n",
    "3. Интересно, что количевство свободного времени после школы (\"freetime\") критически слабо связанно с результатами на экзамене. Данный параметр можно убрать из рассмотрения.\n",
    "\n",
    "4. Близкие значения studytime(11%) и goout (-13%) могут показывать, что если студент не проводит время с друзьями, то данное время он вероятно потратит на обучение. \n",
    "\n",
    "\n",
    "\n",
    "Самые важные параметры, которые предлагается использовать в дальнейшем для построения модели это:\n",
    "\n",
    "   * mjob\n",
    "   * age\n",
    "   * medu\n",
    "   * fedu\n",
    "   * traveltime\n",
    "   * studytime\n",
    "   * famrel\n",
    "   * goout\n",
    "   * health\n",
    "   * absences\n",
    "   * score \n",
    "   \n",
    "Интересно, что если сложить абсолютные значения корреляции данных параметров и баллов на экзамене, то получается примерно 1.068, из-за чего можно сделать вывод о достаточности данных параметров для модели. \n",
    "Все вмести эти параметры дополняют друг друга и их достаточно для прогнозирования результатов учеников на экзамене. \n",
    "\n",
    "Необходимо расширить выборку, увеличить количество школ и повысить чистоту исходных данных.  "
   ]
  }
 ],
 "metadata": {
  "kernelspec": {
   "display_name": "Python 3 (ipykernel)",
   "language": "python",
   "name": "python3"
  },
  "language_info": {
   "codemirror_mode": {
    "name": "ipython",
    "version": 3
   },
   "file_extension": ".py",
   "mimetype": "text/x-python",
   "name": "python",
   "nbconvert_exporter": "python",
   "pygments_lexer": "ipython3",
   "version": "3.9.7"
  }
 },
 "nbformat": 4,
 "nbformat_minor": 5
}
